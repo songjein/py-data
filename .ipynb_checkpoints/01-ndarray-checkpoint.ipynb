{
 "metadata": {
  "name": "",
  "signature": "sha256:e00c1f0a5342d3d225899b1ecf36e6c71192a5bc939049bda8d40cdbfc281638"
 },
 "nbformat": 3,
 "nbformat_minor": 0,
 "worksheets": []
}
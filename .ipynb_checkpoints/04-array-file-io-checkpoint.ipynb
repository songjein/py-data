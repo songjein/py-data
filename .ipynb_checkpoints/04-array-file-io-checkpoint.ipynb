{
 "metadata": {
  "name": "",
  "signature": "sha256:2d238650cdc6279fd98c2072d6455acf249d70f1e11bbc0968f0a4f21a4c5f8e"
 },
 "nbformat": 3,
 "nbformat_minor": 0,
 "worksheets": [
  {
   "cells": [
    {
     "cell_type": "code",
     "collapsed": false,
     "input": [
      "# array to disk as bin"
     ],
     "language": "python",
     "metadata": {},
     "outputs": []
    },
    {
     "cell_type": "code",
     "collapsed": false,
     "input": [
      "arr = np.arange(10)\n",
      "\n",
      "np.save('some_array', arr)"
     ],
     "language": "python",
     "metadata": {},
     "outputs": [],
     "prompt_number": 1
    },
    {
     "cell_type": "code",
     "collapsed": false,
     "input": [
      "np.load('some_array.npy')"
     ],
     "language": "python",
     "metadata": {},
     "outputs": [
      {
       "metadata": {},
       "output_type": "pyout",
       "prompt_number": 2,
       "text": [
        "array([0, 1, 2, 3, 4, 5, 6, 7, 8, 9])"
       ]
      }
     ],
     "prompt_number": 2
    },
    {
     "cell_type": "code",
     "collapsed": false,
     "input": [
      "np.savez('array_archive.npz', a=arr, b=arr)\n",
      "\n",
      "arch = np.load('array_archive.npz')\n",
      "\n",
      "arch['b']"
     ],
     "language": "python",
     "metadata": {},
     "outputs": [
      {
       "metadata": {},
       "output_type": "pyout",
       "prompt_number": 3,
       "text": [
        "array([0, 1, 2, 3, 4, 5, 6, 7, 8, 9])"
       ]
      }
     ],
     "prompt_number": 3
    },
    {
     "cell_type": "code",
     "collapsed": false,
     "input": [
      "# read text file and save"
     ],
     "language": "python",
     "metadata": {},
     "outputs": []
    },
    {
     "cell_type": "code",
     "collapsed": false,
     "input": [
      "!cat array_ex.txt"
     ],
     "language": "python",
     "metadata": {},
     "outputs": [
      {
       "output_type": "stream",
       "stream": "stdout",
       "text": [
        "1, 2, 3, 4, 4\r\n",
        "5, 5, 2, 1, 3\r\n",
        "5, 3, 2, 1, 1\r\n",
        "6, 4, 7, 8, 9\r\n",
        "3, 5, 6, 2, 5\r\n",
        "5, 5, 2, 1, 3\r\n"
       ]
      }
     ],
     "prompt_number": 5
    },
    {
     "cell_type": "code",
     "collapsed": false,
     "input": [
      "arr = np.loadtxt('array_ex.txt', delimiter=',')\n",
      "arr"
     ],
     "language": "python",
     "metadata": {},
     "outputs": [
      {
       "metadata": {},
       "output_type": "pyout",
       "prompt_number": 6,
       "text": [
        "array([[ 1.,  2.,  3.,  4.,  4.],\n",
        "       [ 5.,  5.,  2.,  1.,  3.],\n",
        "       [ 5.,  3.,  2.,  1.,  1.],\n",
        "       [ 6.,  4.,  7.,  8.,  9.],\n",
        "       [ 3.,  5.,  6.,  2.,  5.],\n",
        "       [ 5.,  5.,  2.,  1.,  3.]])"
       ]
      }
     ],
     "prompt_number": 6
    },
    {
     "cell_type": "code",
     "collapsed": false,
     "input": [
      "# np.savetxt"
     ],
     "language": "python",
     "metadata": {},
     "outputs": [],
     "prompt_number": 7
    }
   ],
   "metadata": {}
  }
 ]
}
{
 "metadata": {
  "name": "",
  "signature": "sha256:1c0ca166f0ea1c515aced8603778424459252130ca32755711ebfdac560002a7"
 },
 "nbformat": 3,
 "nbformat_minor": 0,
 "worksheets": [
  {
   "cells": [
    {
     "cell_type": "code",
     "collapsed": false,
     "input": [
      "# Unary Universal function\n",
      "# abs, fabs\n",
      "# sqrt, square, Exp, \n",
      "# Log, log10, log2, log1p (1p; 1+x)\n",
      "# sign (1,0,-1)\n",
      "# ceil, floor\n",
      "# rint \n",
      "# modf\n",
      "# isnan (boolean array)\n",
      "# isfinite, isinf (is the element of the array ... )\n",
      "# cos, cosh, sin ...\n",
      "# logical_not (== -arr)"
     ],
     "language": "python",
     "metadata": {},
     "outputs": [],
     "prompt_number": 18
    },
    {
     "cell_type": "code",
     "collapsed": false,
     "input": [
      "# Binary Universal function\n",
      "# add, subtract, multiply, divide, floor_divide (get only quotient)\n",
      "# power (first array's element ^ second array's element)\n",
      "# maximum, fmax\n",
      "# minimum, fmin\n",
      "# mod (first array's element / second... )\n",
      "# copysign (change first array's sign to second array's)\n",
      "# greater, greater_equal, less, less_equal, equal, not_equal\n",
      "# logical_and, logical_or, logical_xor"
     ],
     "language": "python",
     "metadata": {},
     "outputs": [],
     "prompt_number": 19
    },
    {
     "cell_type": "code",
     "collapsed": false,
     "input": [
      "arr = np.arange(10)\n",
      "np.sqrt(arr)"
     ],
     "language": "python",
     "metadata": {},
     "outputs": [
      {
       "metadata": {},
       "output_type": "pyout",
       "prompt_number": 20,
       "text": [
        "array([ 0.        ,  1.        ,  1.41421356,  1.73205081,  2.        ,\n",
        "        2.23606798,  2.44948974,  2.64575131,  2.82842712,  3.        ])"
       ]
      }
     ],
     "prompt_number": 20
    },
    {
     "cell_type": "code",
     "collapsed": false,
     "input": [
      "np.exp(arr)"
     ],
     "language": "python",
     "metadata": {},
     "outputs": [
      {
       "metadata": {},
       "output_type": "pyout",
       "prompt_number": 21,
       "text": [
        "array([  1.00000000e+00,   2.71828183e+00,   7.38905610e+00,\n",
        "         2.00855369e+01,   5.45981500e+01,   1.48413159e+02,\n",
        "         4.03428793e+02,   1.09663316e+03,   2.98095799e+03,\n",
        "         8.10308393e+03])"
       ]
      }
     ],
     "prompt_number": 21
    },
    {
     "cell_type": "code",
     "collapsed": false,
     "input": [
      "x = np.random.randn(8)\n",
      "y = np.random.randn(8)"
     ],
     "language": "python",
     "metadata": {},
     "outputs": [],
     "prompt_number": 22
    },
    {
     "cell_type": "code",
     "collapsed": false,
     "input": [
      "x"
     ],
     "language": "python",
     "metadata": {},
     "outputs": [
      {
       "metadata": {},
       "output_type": "pyout",
       "prompt_number": 23,
       "text": [
        "array([-0.85297599, -1.54953464,  1.62639121, -0.80957533,  1.1087483 ,\n",
        "        0.69845582,  0.13026063,  1.71841862])"
       ]
      }
     ],
     "prompt_number": 23
    },
    {
     "cell_type": "code",
     "collapsed": false,
     "input": [
      "y"
     ],
     "language": "python",
     "metadata": {},
     "outputs": [
      {
       "metadata": {},
       "output_type": "pyout",
       "prompt_number": 24,
       "text": [
        "array([-2.16811063,  1.2571581 , -1.02793013, -0.07275962, -1.73930058,\n",
        "       -1.18957827,  1.20445556,  0.46363289])"
       ]
      }
     ],
     "prompt_number": 24
    },
    {
     "cell_type": "code",
     "collapsed": false,
     "input": [
      "np.maximum(x,y) # element-wise maximum"
     ],
     "language": "python",
     "metadata": {},
     "outputs": [
      {
       "metadata": {},
       "output_type": "pyout",
       "prompt_number": 25,
       "text": [
        "array([-0.85297599,  1.2571581 ,  1.62639121, -0.07275962,  1.1087483 ,\n",
        "        0.69845582,  1.20445556,  1.71841862])"
       ]
      }
     ],
     "prompt_number": 25
    },
    {
     "cell_type": "code",
     "collapsed": false,
     "input": [
      "arr = randn(7) * 5\n",
      "print arr\n",
      "np.modf(arr) # vectorized divmod"
     ],
     "language": "python",
     "metadata": {},
     "outputs": [
      {
       "output_type": "stream",
       "stream": "stdout",
       "text": [
        "[ 10.2327233    1.16454638 -11.67992705  -0.78860927   3.27375085\n",
        "  -8.8508146   -4.62758328]\n"
       ]
      },
      {
       "metadata": {},
       "output_type": "pyout",
       "prompt_number": 26,
       "text": [
        "(array([ 0.2327233 ,  0.16454638, -0.67992705, -0.78860927,  0.27375085,\n",
        "        -0.8508146 , -0.62758328]),\n",
        " array([ 10.,   1., -11.,  -0.,   3.,  -8.,  -4.]))"
       ]
      }
     ],
     "prompt_number": 26
    }
   ],
   "metadata": {}
  }
 ]
}